{
  "cells": [
    {
      "metadata": {},
      "cell_type": "markdown",
      "source": "Primeira Linha <br /> Segunda Linha"
    },
    {
      "metadata": {},
      "cell_type": "markdown",
      "source": "# para escrever #"
    },
    {
      "metadata": {},
      "cell_type": "markdown",
      "source": "#Negrito#"
    },
    {
      "metadata": {},
      "cell_type": "markdown",
      "source": "##### MENOR ##### "
    },
    {
      "metadata": {},
      "cell_type": "markdown",
      "source": "## pouco mais ##"
    },
    {
      "metadata": {},
      "cell_type": "markdown",
      "source": "## adição e subtrção ##"
    },
    {
      "metadata": {
        "trusted": true
      },
      "cell_type": "code",
      "source": "Diametro=40\na=-0.035\nb=0.042\nDiametroMinimo=Diametro+a\nDiametroMaximo=Diametro+b\nprint('Diâmetro mínimo:', DiametroMinimo)\nprint('Diâmetro máximo:', DiametroMaximo)\n",
      "execution_count": 7,
      "outputs": [
        {
          "output_type": "stream",
          "text": "Diâmetro mínimo: 39.965\nDiâmetro máximo: 40.042\n",
          "name": "stdout"
        }
      ]
    },
    {
      "metadata": {
        "trusted": true
      },
      "cell_type": "code",
      "source": "Diametro=40\na=-0.035\nb=0.042\nDiametroMinimo=Diametro+a\nDiametroMaximo=Diametro+b\nprint('Diâmetro mínimo: %.5f' % DiametroMinimo)\nprint('Diâmetro máximo: %.2f' % DiametroMaximo)\n",
      "execution_count": 9,
      "outputs": [
        {
          "output_type": "stream",
          "text": "Diâmetro mínimo: 39.96500\nDiâmetro máximo: 40.04\n",
          "name": "stdout"
        }
      ]
    },
    {
      "metadata": {},
      "cell_type": "markdown",
      "source": "# Divisão e Multiplicação #"
    },
    {
      "metadata": {
        "trusted": true
      },
      "cell_type": "code",
      "source": "c=5387.76\nm=5612.89\nn=23\ntaxa=((m-c)/n/c)*100\nprint('A taxa é de %.2f%% ao dia.' % taxa)\n",
      "execution_count": 13,
      "outputs": [
        {
          "output_type": "stream",
          "text": "A taxa é de 0.18% ao dia.\n",
          "name": "stdout"
        }
      ]
    },
    {
      "metadata": {},
      "cell_type": "markdown",
      "source": "# Radiciação e Potenciação #\n"
    },
    {
      "metadata": {
        "trusted": true
      },
      "cell_type": "code",
      "source": "7**(1/3)",
      "execution_count": 14,
      "outputs": [
        {
          "output_type": "execute_result",
          "execution_count": 14,
          "data": {
            "text/plain": "1.912931182772389"
          },
          "metadata": {}
        }
      ]
    },
    {
      "metadata": {
        "trusted": true
      },
      "cell_type": "code",
      "source": "c=12300.00\nn=10\ni=2/100\nm=c*(1+i)**n\nprint('O montante é R$ %.2f.' % m)",
      "execution_count": 1,
      "outputs": [
        {
          "output_type": "stream",
          "text": "O montante é R$ 14993.63.\n",
          "name": "stdout"
        }
      ]
    },
    {
      "metadata": {
        "trusted": true
      },
      "cell_type": "code",
      "source": "x,y=symbols(\"x y\")\nx=64700.00*y",
      "execution_count": null,
      "outputs": []
    },
    {
      "metadata": {
        "trusted": true
      },
      "cell_type": "code",
      "source": "c=144010.00\nn=14\ni=13/1000\nm=c*(1+i)**n\nprint('O montante é R$ %.2f.' % m)",
      "execution_count": 24,
      "outputs": [
        {
          "output_type": "stream",
          "text": "O montante é R$ 172553.94.\n",
          "name": "stdout"
        }
      ]
    },
    {
      "metadata": {
        "trusted": true
      },
      "cell_type": "code",
      "source": "c=6500.00\nn=6\ni=9/1000\nm=c*(1+i)**n\nprint('Montante é R$ %.2f.' % m)",
      "execution_count": 23,
      "outputs": [
        {
          "output_type": "stream",
          "text": "Montante é R$ 6858.99.\n",
          "name": "stdout"
        }
      ]
    }
  ],
  "metadata": {
    "kernelspec": {
      "name": "python36",
      "display_name": "Python 3.6",
      "language": "python"
    },
    "language_info": {
      "mimetype": "text/x-python",
      "nbconvert_exporter": "python",
      "name": "python",
      "pygments_lexer": "ipython3",
      "version": "3.6.6",
      "file_extension": ".py",
      "codemirror_mode": {
        "version": 3,
        "name": "ipython"
      }
    }
  },
  "nbformat": 4,
  "nbformat_minor": 2
}